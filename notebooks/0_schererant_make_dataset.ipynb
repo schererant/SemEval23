{
 "cells": [
  {
   "cell_type": "code",
   "execution_count": 2,
   "metadata": {
    "collapsed": true
   },
   "outputs": [],
   "source": [
    "from src.data.make_dataset import *"
   ]
  },
  {
   "cell_type": "code",
   "execution_count": 25,
   "outputs": [
    {
     "data": {
      "text/plain": "     Argument ID  Self-direction: thought  Self-direction: action  \\\n0         A01002                        0                       0   \n1         A01005                        0                       0   \n2         A01006                        0                       0   \n3         A01007                        0                       0   \n4         A01008                        0                       0   \n...          ...                      ...                     ...   \n5388      E08016                        0                       0   \n5389      E08017                        0                       0   \n5390      E08018                        0                       0   \n5391      E08019                        0                       0   \n5392      E08020                        0                       1   \n\n      Stimulation  Hedonism  Achievement  Power: dominance  Power: resources  \\\n0               0         0            0                 0                 0   \n1               0         0            0                 0                 0   \n2               0         0            0                 1                 0   \n3               0         0            0                 0                 0   \n4               0         0            0                 0                 0   \n...           ...       ...          ...               ...               ...   \n5388            0         0            1                 1                 0   \n5389            0         0            0                 0                 0   \n5390            0         0            0                 0                 0   \n5391            0         0            0                 0                 0   \n5392            0         0            0                 1                 0   \n\n      Face  Security: personal  ...  Tradition  Conformity: rules  \\\n0        0                   0  ...          0                  0   \n1        0                   1  ...          0                  0   \n2        0                   0  ...          0                  0   \n3        0                   0  ...          0                  1   \n4        0                   1  ...          0                  0   \n...    ...                 ...  ...        ...                ...   \n5388     0                   0  ...          0                  0   \n5389     0                   1  ...          0                  1   \n5390     0                   0  ...          0                  0   \n5391     0                   1  ...          0                  1   \n5392     0                   0  ...          0                  0   \n\n      Conformity: interpersonal  Humility  Benevolence: caring  \\\n0                             0         0                    0   \n1                             0         0                    0   \n2                             0         0                    0   \n3                             0         0                    0   \n4                             0         0                    1   \n...                         ...       ...                  ...   \n5388                          0         0                    0   \n5389                          0         0                    0   \n5390                          0         0                    0   \n5391                          0         0                    0   \n5392                          0         0                    0   \n\n      Benevolence: dependability  Universalism: concern  Universalism: nature  \\\n0                              0                      0                     0   \n1                              0                      0                     0   \n2                              0                      0                     0   \n3                              0                      1                     0   \n4                              0                      1                     0   \n...                          ...                    ...                   ...   \n5388                           1                      0                     0   \n5389                           1                      1                     0   \n5390                           1                      0                     1   \n5391                           1                      1                     0   \n5392                           1                      0                     0   \n\n      Universalism: tolerance  Universalism: objectivity  \n0                           0                          0  \n1                           0                          0  \n2                           0                          0  \n3                           0                          0  \n4                           0                          0  \n...                       ...                        ...  \n5388                        0                          0  \n5389                        0                          1  \n5390                        0                          0  \n5391                        0                          1  \n5392                        0                          0  \n\n[5393 rows x 21 columns]",
      "text/html": "<div>\n<style scoped>\n    .dataframe tbody tr th:only-of-type {\n        vertical-align: middle;\n    }\n\n    .dataframe tbody tr th {\n        vertical-align: top;\n    }\n\n    .dataframe thead th {\n        text-align: right;\n    }\n</style>\n<table border=\"1\" class=\"dataframe\">\n  <thead>\n    <tr style=\"text-align: right;\">\n      <th></th>\n      <th>Argument ID</th>\n      <th>Self-direction: thought</th>\n      <th>Self-direction: action</th>\n      <th>Stimulation</th>\n      <th>Hedonism</th>\n      <th>Achievement</th>\n      <th>Power: dominance</th>\n      <th>Power: resources</th>\n      <th>Face</th>\n      <th>Security: personal</th>\n      <th>...</th>\n      <th>Tradition</th>\n      <th>Conformity: rules</th>\n      <th>Conformity: interpersonal</th>\n      <th>Humility</th>\n      <th>Benevolence: caring</th>\n      <th>Benevolence: dependability</th>\n      <th>Universalism: concern</th>\n      <th>Universalism: nature</th>\n      <th>Universalism: tolerance</th>\n      <th>Universalism: objectivity</th>\n    </tr>\n  </thead>\n  <tbody>\n    <tr>\n      <th>0</th>\n      <td>A01002</td>\n      <td>0</td>\n      <td>0</td>\n      <td>0</td>\n      <td>0</td>\n      <td>0</td>\n      <td>0</td>\n      <td>0</td>\n      <td>0</td>\n      <td>0</td>\n      <td>...</td>\n      <td>0</td>\n      <td>0</td>\n      <td>0</td>\n      <td>0</td>\n      <td>0</td>\n      <td>0</td>\n      <td>0</td>\n      <td>0</td>\n      <td>0</td>\n      <td>0</td>\n    </tr>\n    <tr>\n      <th>1</th>\n      <td>A01005</td>\n      <td>0</td>\n      <td>0</td>\n      <td>0</td>\n      <td>0</td>\n      <td>0</td>\n      <td>0</td>\n      <td>0</td>\n      <td>0</td>\n      <td>1</td>\n      <td>...</td>\n      <td>0</td>\n      <td>0</td>\n      <td>0</td>\n      <td>0</td>\n      <td>0</td>\n      <td>0</td>\n      <td>0</td>\n      <td>0</td>\n      <td>0</td>\n      <td>0</td>\n    </tr>\n    <tr>\n      <th>2</th>\n      <td>A01006</td>\n      <td>0</td>\n      <td>0</td>\n      <td>0</td>\n      <td>0</td>\n      <td>0</td>\n      <td>1</td>\n      <td>0</td>\n      <td>0</td>\n      <td>0</td>\n      <td>...</td>\n      <td>0</td>\n      <td>0</td>\n      <td>0</td>\n      <td>0</td>\n      <td>0</td>\n      <td>0</td>\n      <td>0</td>\n      <td>0</td>\n      <td>0</td>\n      <td>0</td>\n    </tr>\n    <tr>\n      <th>3</th>\n      <td>A01007</td>\n      <td>0</td>\n      <td>0</td>\n      <td>0</td>\n      <td>0</td>\n      <td>0</td>\n      <td>0</td>\n      <td>0</td>\n      <td>0</td>\n      <td>0</td>\n      <td>...</td>\n      <td>0</td>\n      <td>1</td>\n      <td>0</td>\n      <td>0</td>\n      <td>0</td>\n      <td>0</td>\n      <td>1</td>\n      <td>0</td>\n      <td>0</td>\n      <td>0</td>\n    </tr>\n    <tr>\n      <th>4</th>\n      <td>A01008</td>\n      <td>0</td>\n      <td>0</td>\n      <td>0</td>\n      <td>0</td>\n      <td>0</td>\n      <td>0</td>\n      <td>0</td>\n      <td>0</td>\n      <td>1</td>\n      <td>...</td>\n      <td>0</td>\n      <td>0</td>\n      <td>0</td>\n      <td>0</td>\n      <td>1</td>\n      <td>0</td>\n      <td>1</td>\n      <td>0</td>\n      <td>0</td>\n      <td>0</td>\n    </tr>\n    <tr>\n      <th>...</th>\n      <td>...</td>\n      <td>...</td>\n      <td>...</td>\n      <td>...</td>\n      <td>...</td>\n      <td>...</td>\n      <td>...</td>\n      <td>...</td>\n      <td>...</td>\n      <td>...</td>\n      <td>...</td>\n      <td>...</td>\n      <td>...</td>\n      <td>...</td>\n      <td>...</td>\n      <td>...</td>\n      <td>...</td>\n      <td>...</td>\n      <td>...</td>\n      <td>...</td>\n      <td>...</td>\n    </tr>\n    <tr>\n      <th>5388</th>\n      <td>E08016</td>\n      <td>0</td>\n      <td>0</td>\n      <td>0</td>\n      <td>0</td>\n      <td>1</td>\n      <td>1</td>\n      <td>0</td>\n      <td>0</td>\n      <td>0</td>\n      <td>...</td>\n      <td>0</td>\n      <td>0</td>\n      <td>0</td>\n      <td>0</td>\n      <td>0</td>\n      <td>1</td>\n      <td>0</td>\n      <td>0</td>\n      <td>0</td>\n      <td>0</td>\n    </tr>\n    <tr>\n      <th>5389</th>\n      <td>E08017</td>\n      <td>0</td>\n      <td>0</td>\n      <td>0</td>\n      <td>0</td>\n      <td>0</td>\n      <td>0</td>\n      <td>0</td>\n      <td>0</td>\n      <td>1</td>\n      <td>...</td>\n      <td>0</td>\n      <td>1</td>\n      <td>0</td>\n      <td>0</td>\n      <td>0</td>\n      <td>1</td>\n      <td>1</td>\n      <td>0</td>\n      <td>0</td>\n      <td>1</td>\n    </tr>\n    <tr>\n      <th>5390</th>\n      <td>E08018</td>\n      <td>0</td>\n      <td>0</td>\n      <td>0</td>\n      <td>0</td>\n      <td>0</td>\n      <td>0</td>\n      <td>0</td>\n      <td>0</td>\n      <td>0</td>\n      <td>...</td>\n      <td>0</td>\n      <td>0</td>\n      <td>0</td>\n      <td>0</td>\n      <td>0</td>\n      <td>1</td>\n      <td>0</td>\n      <td>1</td>\n      <td>0</td>\n      <td>0</td>\n    </tr>\n    <tr>\n      <th>5391</th>\n      <td>E08019</td>\n      <td>0</td>\n      <td>0</td>\n      <td>0</td>\n      <td>0</td>\n      <td>0</td>\n      <td>0</td>\n      <td>0</td>\n      <td>0</td>\n      <td>1</td>\n      <td>...</td>\n      <td>0</td>\n      <td>1</td>\n      <td>0</td>\n      <td>0</td>\n      <td>0</td>\n      <td>1</td>\n      <td>1</td>\n      <td>0</td>\n      <td>0</td>\n      <td>1</td>\n    </tr>\n    <tr>\n      <th>5392</th>\n      <td>E08020</td>\n      <td>0</td>\n      <td>1</td>\n      <td>0</td>\n      <td>0</td>\n      <td>0</td>\n      <td>1</td>\n      <td>0</td>\n      <td>0</td>\n      <td>0</td>\n      <td>...</td>\n      <td>0</td>\n      <td>0</td>\n      <td>0</td>\n      <td>0</td>\n      <td>0</td>\n      <td>1</td>\n      <td>0</td>\n      <td>0</td>\n      <td>0</td>\n      <td>0</td>\n    </tr>\n  </tbody>\n</table>\n<p>5393 rows × 21 columns</p>\n</div>"
     },
     "execution_count": 25,
     "metadata": {},
     "output_type": "execute_result"
    }
   ],
   "source": [
    "def load_json_file(filepath):\n",
    "    \"\"\"Load content of json-file from `filepath`\"\"\"\n",
    "    with open(filepath, 'r') as  json_file:\n",
    "        return json.load(json_file)\n",
    "\n",
    "\n",
    "def load_values_from_json(filepath):\n",
    "    \"\"\"Load values per level from json-file from `filepath`\"\"\"\n",
    "    json_values = load_json_file(filepath)\n",
    "    print(json_values)\n",
    "    values = { \"1\":set(), \"2\":set(), \"3\":set(), \"4a\":set(), \"4b\":set() }\n",
    "    for value in json_values[\"values\"]:\n",
    "        values[\"1\"].add(value[\"name\"])\n",
    "        values[\"2\"].add(value[\"level2\"])\n",
    "        for valueLevel3 in value[\"level3\"]:\n",
    "            values[\"3\"].add(valueLevel3)\n",
    "        for valueLevel4a in value[\"level4a\"]:\n",
    "            values[\"4a\"].add(valueLevel4a)\n",
    "        for valueLevel4b in value[\"level4b\"]:\n",
    "            values[\"4b\"].add(valueLevel4b)\n",
    "    values[\"1\"] = sorted(values[\"1\"])\n",
    "    values[\"2\"] = sorted(values[\"2\"])\n",
    "    values[\"3\"] = sorted(values[\"3\"])\n",
    "    values[\"4a\"] = sorted(values[\"4a\"])\n",
    "    values[\"4b\"] = sorted(values[\"4b\"])\n",
    "    return values\n",
    "\n",
    "levels = ['']\n",
    "filepath_json = '/Users/anani/Code/SemEval23/data/raw/value-categories.json'\n",
    "filepath_labels = '/Users/anani/Code/SemEval23/data/raw/labels-training.tsv'\n",
    "json_values = load_json_file(filepath_json)\n",
    "load_labels_from_tsv(filepath_labels, list(json_values.keys()))"
   ],
   "metadata": {
    "collapsed": false,
    "pycharm": {
     "name": "#%%\n"
    }
   }
  },
  {
   "cell_type": "code",
   "execution_count": 26,
   "outputs": [
    {
     "data": {
      "text/plain": "     Argument ID                                         Conclusion  \\\n0         A01002                        We should ban human cloning   \n1         A01005                            We should ban fast food   \n2         A01006        We should end the use of economic sanctions   \n3         A01007               We should abolish capital punishment   \n4         A01008                      We should ban factory farming   \n...          ...                                                ...   \n5388      E08016  The EU should integrate the armed forces of it...   \n5389      E08017  Food whose production has been subsidized with...   \n5390      E08018  Food whose production has been subsidized with...   \n5391      E08019  Food whose production has been subsidized with...   \n5392      E08020  The EU should integrate the armed forces of it...   \n\n           Stance                                            Premise Usage  \n0     in favor of  we should ban human cloning as it will only ca...  test  \n1     in favor of  fast food should be banned because it is reall...  test  \n2         against  sometimes economic sanctions are the only thin...  test  \n3         against  capital punishment is sometimes the only optio...  test  \n4         against  factory farming allows for the production of c...  test  \n...           ...                                                ...   ...  \n5388  in favor of  On the one hand, we have Russia killing countl...  test  \n5389  in favor of  The subsidies were originally intended to ensu...  test  \n5390  in favor of  These products come mainly from large enterpri...  test  \n5391  in favor of  Subsidies often make farmers in recipient coun...  test  \n5392  in favor of  The EU cannot endlessly lean on America or NAT...  test  \n\n[5393 rows x 5 columns]",
      "text/html": "<div>\n<style scoped>\n    .dataframe tbody tr th:only-of-type {\n        vertical-align: middle;\n    }\n\n    .dataframe tbody tr th {\n        vertical-align: top;\n    }\n\n    .dataframe thead th {\n        text-align: right;\n    }\n</style>\n<table border=\"1\" class=\"dataframe\">\n  <thead>\n    <tr style=\"text-align: right;\">\n      <th></th>\n      <th>Argument ID</th>\n      <th>Conclusion</th>\n      <th>Stance</th>\n      <th>Premise</th>\n      <th>Usage</th>\n    </tr>\n  </thead>\n  <tbody>\n    <tr>\n      <th>0</th>\n      <td>A01002</td>\n      <td>We should ban human cloning</td>\n      <td>in favor of</td>\n      <td>we should ban human cloning as it will only ca...</td>\n      <td>test</td>\n    </tr>\n    <tr>\n      <th>1</th>\n      <td>A01005</td>\n      <td>We should ban fast food</td>\n      <td>in favor of</td>\n      <td>fast food should be banned because it is reall...</td>\n      <td>test</td>\n    </tr>\n    <tr>\n      <th>2</th>\n      <td>A01006</td>\n      <td>We should end the use of economic sanctions</td>\n      <td>against</td>\n      <td>sometimes economic sanctions are the only thin...</td>\n      <td>test</td>\n    </tr>\n    <tr>\n      <th>3</th>\n      <td>A01007</td>\n      <td>We should abolish capital punishment</td>\n      <td>against</td>\n      <td>capital punishment is sometimes the only optio...</td>\n      <td>test</td>\n    </tr>\n    <tr>\n      <th>4</th>\n      <td>A01008</td>\n      <td>We should ban factory farming</td>\n      <td>against</td>\n      <td>factory farming allows for the production of c...</td>\n      <td>test</td>\n    </tr>\n    <tr>\n      <th>...</th>\n      <td>...</td>\n      <td>...</td>\n      <td>...</td>\n      <td>...</td>\n      <td>...</td>\n    </tr>\n    <tr>\n      <th>5388</th>\n      <td>E08016</td>\n      <td>The EU should integrate the armed forces of it...</td>\n      <td>in favor of</td>\n      <td>On the one hand, we have Russia killing countl...</td>\n      <td>test</td>\n    </tr>\n    <tr>\n      <th>5389</th>\n      <td>E08017</td>\n      <td>Food whose production has been subsidized with...</td>\n      <td>in favor of</td>\n      <td>The subsidies were originally intended to ensu...</td>\n      <td>test</td>\n    </tr>\n    <tr>\n      <th>5390</th>\n      <td>E08018</td>\n      <td>Food whose production has been subsidized with...</td>\n      <td>in favor of</td>\n      <td>These products come mainly from large enterpri...</td>\n      <td>test</td>\n    </tr>\n    <tr>\n      <th>5391</th>\n      <td>E08019</td>\n      <td>Food whose production has been subsidized with...</td>\n      <td>in favor of</td>\n      <td>Subsidies often make farmers in recipient coun...</td>\n      <td>test</td>\n    </tr>\n    <tr>\n      <th>5392</th>\n      <td>E08020</td>\n      <td>The EU should integrate the armed forces of it...</td>\n      <td>in favor of</td>\n      <td>The EU cannot endlessly lean on America or NAT...</td>\n      <td>test</td>\n    </tr>\n  </tbody>\n</table>\n<p>5393 rows × 5 columns</p>\n</div>"
     },
     "execution_count": 26,
     "metadata": {},
     "output_type": "execute_result"
    }
   ],
   "source": [
    "filepath_train = '/Users/anani/Code/SemEval23/data/raw/arguments-training.tsv'\n",
    "load_arguments_from_tsv(filepath_train)"
   ],
   "metadata": {
    "collapsed": false,
    "pycharm": {
     "name": "#%%\n"
    }
   }
  },
  {
   "cell_type": "markdown",
   "source": [],
   "metadata": {
    "collapsed": false
   }
  },
  {
   "cell_type": "code",
   "execution_count": 33,
   "outputs": [
    {
     "name": "stdout",
     "output_type": "stream",
     "text": [
      "/Users/anani/Code/SemEval23/notebooks\n",
      "/Users/anani/Code/SemEval23/notebooks/../data/raw/value-categories.json\n"
     ]
    }
   ],
   "source": [
    "import os\n",
    "\n",
    "def filepath_json():\n",
    "    curr_dir = os.getcwd()\n",
    "    print(curr_dir)\n",
    "    data_dir = os.path.join(curr_dir, '../data/raw/')\n",
    "    print(os.path.join(data_dir, 'value-categories.json'))\n",
    "    return os.path.join(data_dir, 'value-categories.json')\n",
    "\n",
    "json_values = load_json_file(filepath_json())\n"
   ],
   "metadata": {
    "collapsed": false,
    "pycharm": {
     "name": "#%%\n"
    }
   }
  }
 ],
 "metadata": {
  "kernelspec": {
   "display_name": "Python 3",
   "language": "python",
   "name": "python3"
  },
  "language_info": {
   "codemirror_mode": {
    "name": "ipython",
    "version": 2
   },
   "file_extension": ".py",
   "mimetype": "text/x-python",
   "name": "python",
   "nbconvert_exporter": "python",
   "pygments_lexer": "ipython2",
   "version": "2.7.6"
  }
 },
 "nbformat": 4,
 "nbformat_minor": 0
}